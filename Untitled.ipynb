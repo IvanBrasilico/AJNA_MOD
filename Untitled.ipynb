{
 "cells": [
  {
   "cell_type": "code",
   "execution_count": 1,
   "metadata": {},
   "outputs": [],
   "source": [
    "import flask\n",
    "from flask.testing import FlaskClient as BaseFlaskClient\n",
    "from flask_wtf.csrf import generate_csrf"
   ]
  },
  {
   "cell_type": "code",
   "execution_count": 2,
   "metadata": {},
   "outputs": [],
   "source": [
    "class RequestShim(object):\n",
    "    \"\"\"\n",
    "    A fake request that proxies cookie-related methods to a Flask test client.\n",
    "    \"\"\"\n",
    "    def __init__(self, client):\n",
    "        self.client = client\n",
    "\n",
    "    def set_cookie(self, key, value='', *args, **kwargs):\n",
    "        \"Set the cookie on the Flask test client.\"\n",
    "        server_name = flask.current_app.config[\"SERVER_NAME\"] or \"localhost\"\n",
    "        return self.client.set_cookie(\n",
    "            server_name, key=key, value=value, *args, **kwargs\n",
    "        )\n",
    "\n",
    "    def delete_cookie(self, key, *args, **kwargs):\n",
    "        \"Delete the cookie on the Flask test client.\"\n",
    "        server_name = flask.current_app.config[\"SERVER_NAME\"] or \"localhost\"\n",
    "        return self.client.delete_cookie(\n",
    "            server_name, key=key, *args, **kwargs\n",
    "        )"
   ]
  },
  {
   "cell_type": "code",
   "execution_count": 3,
   "metadata": {},
   "outputs": [],
   "source": [
    "class FlaskClient(BaseFlaskClient):\n",
    "    @property\n",
    "    def csrf_token(self):\n",
    "        request = RequestShim(self) \n",
    "        environ_overrides = {}\n",
    "        self.cookie_jar.inject_wsgi(environ_overrides)\n",
    "        with flask.current_app.test_request_context(\n",
    "                \"/login\", environ_overrides=environ_overrides,\n",
    "            ):\n",
    "            csrf_token = generate_csrf()\n",
    "            flask.current_app.save_session(flask.session, request)\n",
    "            return csrf_token\n",
    "\n",
    "    def login(self, username, password):\n",
    "        return self.post(\"/login\", data={\n",
    "            \"username\": email,\n",
    "            \"password\": password,\n",
    "            \"csrf_token\": self.csrf_token,\n",
    "        }, follow_redirects=True)\n",
    "\n",
    "    def logout(self):\n",
    "        return self.get(\"/logout\", follow_redirects=True)\n"
   ]
  },
  {
   "cell_type": "code",
   "execution_count": 4,
   "metadata": {},
   "outputs": [
    {
     "ename": "NameError",
     "evalue": "name 'Flask' is not defined",
     "output_type": "error",
     "traceback": [
      "\u001b[1;31m---------------------------------------------------------------------------\u001b[0m",
      "\u001b[1;31mNameError\u001b[0m                                 Traceback (most recent call last)",
      "\u001b[1;32m<ipython-input-4-c359042c5b19>\u001b[0m in \u001b[0;36m<module>\u001b[1;34m()\u001b[0m\n\u001b[0;32m      2\u001b[0m \u001b[1;31m# To hook up this extended test client class to your Flask application,\u001b[0m\u001b[1;33m\u001b[0m\u001b[1;33m\u001b[0m\u001b[0m\n\u001b[0;32m      3\u001b[0m \u001b[1;31m# assign it to the `test_client_class` property, like this:\u001b[0m\u001b[1;33m\u001b[0m\u001b[1;33m\u001b[0m\u001b[0m\n\u001b[1;32m----> 4\u001b[1;33m \u001b[0mapp\u001b[0m \u001b[1;33m=\u001b[0m \u001b[0mFlask\u001b[0m\u001b[1;33m(\u001b[0m\u001b[0m__name__\u001b[0m\u001b[1;33m)\u001b[0m\u001b[1;33m\u001b[0m\u001b[0m\n\u001b[0m\u001b[0;32m      5\u001b[0m \u001b[0mapp\u001b[0m\u001b[1;33m.\u001b[0m\u001b[0mtest_client_class\u001b[0m \u001b[1;33m=\u001b[0m \u001b[0mFlaskClient\u001b[0m\u001b[1;33m\u001b[0m\u001b[0m\n\u001b[0;32m      6\u001b[0m \u001b[1;33m\u001b[0m\u001b[0m\n",
      "\u001b[1;31mNameError\u001b[0m: name 'Flask' is not defined"
     ]
    }
   ],
   "source": [
    "# To hook up this extended test client class to your Flask application,\n",
    "# assign it to the `test_client_class` property, like this:\n",
    "app = Flask(__name__)\n",
    "app.test_client_class = FlaskClient\n",
    "\n",
    "# Now in your tests, you can request a test client the same way\n",
    "# that you normally do:\n",
    "client = app.test_client()\n",
    "# But now, `client` is an instance of the class we defined!\n",
    "\n",
    "# In your tests, you can call the methods you defined, like this:\n",
    "client.login('user@example.com', 'passw0rd')\n",
    "\n",
    "# And any time you need to pass a CSRF token, just use the `csrf_token`\n",
    "# property, like this:\n",
    "client.post(\"/user/1\", data={\n",
    "    \"favorite_color\": \"blue\",\n",
    "    \"csrf_token\": client.csrf_token,\n",
    "})"
   ]
  },
  {
   "cell_type": "code",
   "execution_count": 2,
   "metadata": {},
   "outputs": [],
   "source": [
    "from sentinela.models.models import (Base, BaseOrigem, DBUser, DePara,\n",
    "                                     MySession, PadraoRisco, ParametroRisco,\n",
    "                                     ValorParametro, Visao)\n",
    "import sentinela.utils.gerente_risco as grt"
   ]
  },
  {
   "cell_type": "code",
   "execution_count": 2,
   "metadata": {},
   "outputs": [],
   "source": [
    "gerente = grt.GerenteRisco()"
   ]
  },
  {
   "cell_type": "code",
   "execution_count": 3,
   "metadata": {},
   "outputs": [],
   "source": [
    "headers = gerente.import_named_csv('sentinela/tests/BTP.csv', tolist=True)"
   ]
  },
  {
   "cell_type": "code",
   "execution_count": 4,
   "metadata": {},
   "outputs": [
    {
     "data": {
      "text/plain": [
       "['Conteiner',\n",
       " 'Tipo Conteiner',\n",
       " 'Iso Code',\n",
       " 'Categoria',\n",
       " 'Viagem Embarque',\n",
       " 'Navio Embarque',\n",
       " 'Viagem Descarga',\n",
       " 'Navio Descarga',\n",
       " 'Local Imagem',\n",
       " 'Alerta / IF',\n",
       " 'CH/VZ',\n",
       " 'Status',\n",
       " 'Porto Descarga',\n",
       " 'Porto Destino Final',\n",
       " 'Codigo Ncm',\n",
       " 'Descricao Ncm',\n",
       " 'Cpf Motorista',\n",
       " 'Nome Motorista',\n",
       " 'Cpf Operador Scanner',\n",
       " 'Nome Operador Scanner',\n",
       " 'Transportadora',\n",
       " 'CNPJ Transportadora',\n",
       " 'Razão Social Exportador / Importador',\n",
       " 'Cnpj Exportador / Importador']"
      ]
     },
     "execution_count": 4,
     "metadata": {},
     "output_type": "execute_result"
    }
   ],
   "source": [
    "headers"
   ]
  },
  {
   "cell_type": "code",
   "execution_count": 5,
   "metadata": {},
   "outputs": [],
   "source": [
    "headers.sort()"
   ]
  },
  {
   "cell_type": "code",
   "execution_count": 1,
   "metadata": {},
   "outputs": [],
   "source": [
    "import sentinela.app as app"
   ]
  },
  {
   "cell_type": "code",
   "execution_count": 3,
   "metadata": {},
   "outputs": [],
   "source": [
    "import sentinela.conf as conf"
   ]
  },
  {
   "cell_type": "code",
   "execution_count": 10,
   "metadata": {},
   "outputs": [],
   "source": [
    "app.app.testing = True"
   ]
  },
  {
   "cell_type": "code",
   "execution_count": 11,
   "metadata": {},
   "outputs": [
    {
     "data": {
      "text/plain": [
       "<Config {'DEBUG': False, 'TESTING': True, 'PROPAGATE_EXCEPTIONS': None, 'PRESERVE_CONTEXT_ON_EXCEPTION': None, 'SECRET_KEY': b\"4'T\\xd4\\xc7A\\x1bb\\xb3\\x1f\\\\\\xa7\\x90\\xb9\\xc4\\x85\\x13\\xa7\\xce}\\xc6Eq\\t\", 'PERMANENT_SESSION_LIFETIME': datetime.timedelta(31), 'USE_X_SENDFILE': False, 'LOGGER_NAME': 'sentinela.app', 'LOGGER_HANDLER_POLICY': 'always', 'SERVER_NAME': None, 'APPLICATION_ROOT': None, 'SESSION_COOKIE_NAME': 'session', 'SESSION_COOKIE_DOMAIN': None, 'SESSION_COOKIE_PATH': None, 'SESSION_COOKIE_HTTPONLY': True, 'SESSION_COOKIE_SECURE': False, 'SESSION_REFRESH_EACH_REQUEST': True, 'MAX_CONTENT_LENGTH': None, 'SEND_FILE_MAX_AGE_DEFAULT': datetime.timedelta(0, 43200), 'TRAP_BAD_REQUEST_ERRORS': False, 'TRAP_HTTP_EXCEPTIONS': False, 'EXPLAIN_TEMPLATE_LOADING': False, 'PREFERRED_URL_SCHEME': 'http', 'JSON_AS_ASCII': True, 'JSON_SORT_KEYS': True, 'JSONIFY_PRETTYPRINT_REGULAR': True, 'JSONIFY_MIMETYPE': 'application/json', 'TEMPLATES_AUTO_RELOAD': None, 'WTF_CSRF_ENABLED': True, 'WTF_CSRF_CHECK_DEFAULT': True, 'WTF_CSRF_METHODS': {'PATCH', 'POST', 'PUT', 'DELETE'}, 'WTF_CSRF_FIELD_NAME': 'csrf_token', 'WTF_CSRF_HEADERS': ['X-CSRFToken', 'X-CSRF-Token'], 'WTF_CSRF_TIME_LIMIT': 3600, 'WTF_CSRF_SSL_STRICT': True, 'BOOTSTRAP_USE_MINIFIED': True, 'BOOTSTRAP_CDN_FORCE_SSL': False, 'BOOTSTRAP_QUERYSTRING_REVVING': True, 'BOOTSTRAP_SERVE_LOCAL': False, 'BOOTSTRAP_LOCAL_SUBDOMAIN': None, 'SESSION_TYPE': 'filesystem'}>"
      ]
     },
     "execution_count": 11,
     "metadata": {},
     "output_type": "execute_result"
    }
   ],
   "source": [
    "app.app.config"
   ]
  },
  {
   "cell_type": "code",
   "execution_count": 9,
   "metadata": {},
   "outputs": [],
   "source": [
    "conf.CSV_FOLDER = conf.CSV_FOLDER_TEST"
   ]
  },
  {
   "cell_type": "code",
   "execution_count": 10,
   "metadata": {},
   "outputs": [
    {
     "data": {
      "text/plain": [
       "'sentinela/tests/CSV'"
      ]
     },
     "execution_count": 10,
     "metadata": {},
     "output_type": "execute_result"
    }
   ],
   "source": [
    "conf.CSV_FOLDER"
   ]
  },
  {
   "cell_type": "code",
   "execution_count": 10,
   "metadata": {},
   "outputs": [
    {
     "data": {
      "text/plain": [
       "<Config {'DEBUG': False, 'TESTING': True, 'PROPAGATE_EXCEPTIONS': None, 'PRESERVE_CONTEXT_ON_EXCEPTION': None, 'SECRET_KEY': b\"4'T\\xd4\\xc7A\\x1bb\\xb3\\x1f\\\\\\xa7\\x90\\xb9\\xc4\\x85\\x13\\xa7\\xce}\\xc6Eq\\t\", 'PERMANENT_SESSION_LIFETIME': datetime.timedelta(31), 'USE_X_SENDFILE': False, 'LOGGER_NAME': 'sentinela.app', 'LOGGER_HANDLER_POLICY': 'always', 'SERVER_NAME': None, 'APPLICATION_ROOT': None, 'SESSION_COOKIE_NAME': 'session', 'SESSION_COOKIE_DOMAIN': None, 'SESSION_COOKIE_PATH': None, 'SESSION_COOKIE_HTTPONLY': True, 'SESSION_COOKIE_SECURE': False, 'SESSION_REFRESH_EACH_REQUEST': True, 'MAX_CONTENT_LENGTH': None, 'SEND_FILE_MAX_AGE_DEFAULT': datetime.timedelta(0, 43200), 'TRAP_BAD_REQUEST_ERRORS': False, 'TRAP_HTTP_EXCEPTIONS': False, 'EXPLAIN_TEMPLATE_LOADING': False, 'PREFERRED_URL_SCHEME': 'http', 'JSON_AS_ASCII': True, 'JSON_SORT_KEYS': True, 'JSONIFY_PRETTYPRINT_REGULAR': True, 'JSONIFY_MIMETYPE': 'application/json', 'TEMPLATES_AUTO_RELOAD': None, 'WTF_CSRF_ENABLED': True, 'WTF_CSRF_CHECK_DEFAULT': True, 'WTF_CSRF_METHODS': {'PUT', 'DELETE', 'POST', 'PATCH'}, 'WTF_CSRF_FIELD_NAME': 'csrf_token', 'WTF_CSRF_HEADERS': ['X-CSRFToken', 'X-CSRF-Token'], 'WTF_CSRF_TIME_LIMIT': 3600, 'WTF_CSRF_SSL_STRICT': True, 'BOOTSTRAP_USE_MINIFIED': True, 'BOOTSTRAP_CDN_FORCE_SSL': False, 'BOOTSTRAP_QUERYSTRING_REVVING': True, 'BOOTSTRAP_SERVE_LOCAL': False, 'BOOTSTRAP_LOCAL_SUBDOMAIN': None, 'SESSION_TYPE': 'filesystem'}>"
      ]
     },
     "execution_count": 10,
     "metadata": {},
     "output_type": "execute_result"
    }
   ],
   "source": [
    "app.app.config"
   ]
  },
  {
   "cell_type": "code",
   "execution_count": 8,
   "metadata": {},
   "outputs": [],
   "source": [
    "app.app.config['TESTING'] = True"
   ]
  },
  {
   "cell_type": "code",
   "execution_count": 9,
   "metadata": {},
   "outputs": [
    {
     "data": {
      "text/plain": [
       "True"
      ]
     },
     "execution_count": 9,
     "metadata": {},
     "output_type": "execute_result"
    }
   ],
   "source": [
    "app.app.testing"
   ]
  }
 ],
 "metadata": {
  "kernelspec": {
   "display_name": "Python 3",
   "language": "python",
   "name": "python3"
  },
  "language_info": {
   "codemirror_mode": {
    "name": "ipython",
    "version": 3
   },
   "file_extension": ".py",
   "mimetype": "text/x-python",
   "name": "python",
   "nbconvert_exporter": "python",
   "pygments_lexer": "ipython3",
   "version": "3.6.3"
  }
 },
 "nbformat": 4,
 "nbformat_minor": 2
}
