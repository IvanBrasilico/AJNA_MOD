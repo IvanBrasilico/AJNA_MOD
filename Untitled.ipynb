{
 "cells": [
  {
   "cell_type": "code",
   "execution_count": 2,
   "metadata": {},
   "outputs": [],
   "source": [
    "from sentinela.models.models import (Base, BaseOrigem, DBUser, DePara,\n",
    "                                     MySession, PadraoRisco, ParametroRisco,\n",
    "                                     ValorParametro, Visao)\n",
    "import sentinela.utils.gerente_risco as grt"
   ]
  },
  {
   "cell_type": "code",
   "execution_count": 4,
   "metadata": {},
   "outputs": [],
   "source": [
    "gerente = grt.GerenteRisco()"
   ]
  },
  {
   "cell_type": "code",
   "execution_count": 5,
   "metadata": {},
   "outputs": [],
   "source": [
    "headers = gerente.import_named_csv('sentinela/tests/BTP.csv', tolist=True)"
   ]
  },
  {
   "cell_type": "code",
   "execution_count": 6,
   "metadata": {},
   "outputs": [
    {
     "data": {
      "text/plain": [
       "['Conteiner',\n",
       " 'Tipo Conteiner',\n",
       " 'Iso Code',\n",
       " 'Categoria',\n",
       " 'Viagem Embarque',\n",
       " 'Navio Embarque',\n",
       " 'Viagem Descarga',\n",
       " 'Navio Descarga',\n",
       " 'Local Imagem',\n",
       " 'Alerta / IF',\n",
       " 'CH/VZ',\n",
       " 'Status',\n",
       " 'Porto Descarga',\n",
       " 'Porto Destino Final',\n",
       " 'Codigo Ncm',\n",
       " 'Descricao Ncm',\n",
       " 'Cpf Motorista',\n",
       " 'Nome Motorista',\n",
       " 'Cpf Operador Scanner',\n",
       " 'Nome Operador Scanner',\n",
       " 'Transportadora',\n",
       " 'CNPJ Transportadora',\n",
       " 'Razão Social Exportador / Importador',\n",
       " 'Cnpj Exportador / Importador']"
      ]
     },
     "execution_count": 6,
     "metadata": {},
     "output_type": "execute_result"
    }
   ],
   "source": [
    "headers"
   ]
  }
 ],
 "metadata": {
  "kernelspec": {
   "display_name": "Python 3",
   "language": "python",
   "name": "python3"
  },
  "language_info": {
   "codemirror_mode": {
    "name": "ipython",
    "version": 3
   },
   "file_extension": ".py",
   "mimetype": "text/x-python",
   "name": "python",
   "nbconvert_exporter": "python",
   "pygments_lexer": "ipython3",
   "version": "3.6.3"
  }
 },
 "nbformat": 4,
 "nbformat_minor": 2
}
