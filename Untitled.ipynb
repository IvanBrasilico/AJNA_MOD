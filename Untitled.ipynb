{
 "cells": [
  {
   "cell_type": "code",
   "execution_count": 1,
   "metadata": {},
   "outputs": [],
   "source": [
    "from sentinela.models.models import (Base, BaseOrigem, DBUser, DePara,\n",
    "                                     MySession, PadraoRisco, ParametroRisco,\n",
    "                                     ValorParametro, Visao)\n",
    "import sentinela.utils.gerente_risco as grt"
   ]
  },
  {
   "cell_type": "code",
   "execution_count": 2,
   "metadata": {},
   "outputs": [],
   "source": [
    "gerente = grt.GerenteRisco()"
   ]
  },
  {
   "cell_type": "code",
   "execution_count": 13,
   "metadata": {},
   "outputs": [],
   "source": [
    "headers = gerente.import_named_csv('sentinela/tests/BTP.csv', tolist=True)"
   ]
  },
  {
   "cell_type": "code",
   "execution_count": 21,
   "metadata": {},
   "outputs": [
    {
     "data": {
      "text/plain": [
       "['Alerta / IF',\n",
       " 'CH/VZ',\n",
       " 'CNPJ Transportadora',\n",
       " 'Categoria',\n",
       " 'Cnpj Exportador / Importador',\n",
       " 'Codigo Ncm',\n",
       " 'Conteiner',\n",
       " 'Cpf Motorista',\n",
       " 'Cpf Operador Scanner',\n",
       " 'Descricao Ncm',\n",
       " 'Iso Code',\n",
       " 'Local Imagem',\n",
       " 'Navio Descarga',\n",
       " 'Navio Embarque',\n",
       " 'Nome Motorista',\n",
       " 'Nome Operador Scanner',\n",
       " 'Porto Descarga',\n",
       " 'Porto Destino Final',\n",
       " 'Razão Social Exportador / Importador',\n",
       " 'Status',\n",
       " 'Tipo Conteiner',\n",
       " 'Transportadora',\n",
       " 'Viagem Descarga',\n",
       " 'Viagem Embarque']"
      ]
     },
     "execution_count": 21,
     "metadata": {},
     "output_type": "execute_result"
    }
   ],
   "source": [
    "headers"
   ]
  },
  {
   "cell_type": "code",
   "execution_count": 20,
   "metadata": {},
   "outputs": [],
   "source": [
    "headers.sort()"
   ]
  },
  {
   "cell_type": "code",
   "execution_count": 18,
   "metadata": {},
   "outputs": [],
   "source": [
    "lista"
   ]
  }
 ],
 "metadata": {
  "kernelspec": {
   "display_name": "Python 3",
   "language": "python",
   "name": "python3"
  },
  "language_info": {
   "codemirror_mode": {
    "name": "ipython",
    "version": 3
   },
   "file_extension": ".py",
   "mimetype": "text/x-python",
   "name": "python",
   "nbconvert_exporter": "python",
   "pygments_lexer": "ipython3",
   "version": "3.6.3"
  }
 },
 "nbformat": 4,
 "nbformat_minor": 2
}
