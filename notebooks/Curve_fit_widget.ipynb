{
 "cells": [
  {
   "cell_type": "markdown",
   "metadata": {},
   "source": [
    "# Simple interactive widget demo\n",
    "\n",
    "https://raw.githubusercontent.com/tirthajyoti/Widgets/master/Curve_fit_widget_1.ipynb"
   ]
  },
  {
   "cell_type": "code",
   "execution_count": 1,
   "metadata": {},
   "outputs": [],
   "source": [
    "# ! pip install matplotlib scipy ipywidgets\n",
    "# ! jupyter nbextension enable --py widgetsnbextension --sys-prefix venv\n",
    "from ipywidgets import interact, interactive, fixed, interact_manual\n",
    "import ipywidgets as widgets\n",
    "from IPython.display import display\n",
    "\n",
    "import numpy as np\n",
    "import matplotlib.pyplot as plt\n",
    "#%matplotlib inline\n",
    "\n",
    "import pandas as pd\n",
    "\n",
    "from scipy.optimize import curve_fit as cf"
   ]
  },
  {
   "cell_type": "markdown",
   "metadata": {},
   "source": [
    "### Variables"
   ]
  },
  {
   "cell_type": "code",
   "execution_count": 2,
   "metadata": {},
   "outputs": [],
   "source": [
    "N_samples = 25\n",
    "x=np.linspace(-2,2,N_samples)"
   ]
  },
  {
   "cell_type": "markdown",
   "metadata": {},
   "source": [
    "### Function definitions (ideal fitting function and actual data generating function with noise)"
   ]
  },
  {
   "cell_type": "code",
   "execution_count": 3,
   "metadata": {},
   "outputs": [],
   "source": [
    "def f(x,a,mu,sigma):\n",
    "    r=a*np.exp(-(x-mu)**2/(2*sigma**2))\n",
    "    return (r)"
   ]
  },
  {
   "cell_type": "code",
   "execution_count": 4,
   "metadata": {},
   "outputs": [],
   "source": [
    "def func(amplitude,ideal_mu,ideal_sigma,noise_sd,noise_mean):\n",
    "    r=amplitude*np.exp(-(x-ideal_mu)**2/(2*ideal_sigma**2))\n",
    "    plt.figure(figsize=(8,5))\n",
    "    plt.plot(x,r,c='k',lw=3)\n",
    "    r= r+np.random.normal(loc=noise_mean,scale=noise_sd,size=N_samples)\n",
    "    plt.scatter(x,r,edgecolors='k',c='yellow',s=60)\n",
    "    plt.grid(True)\n",
    "    plt.show()\n",
    "    return (r)"
   ]
  },
  {
   "cell_type": "markdown",
   "metadata": {},
   "source": [
    "### Call the 'interactive' widget with the data generating function, which also plots the data real-time\n",
    "** Play with the *'noise_sd'* and *'noise_mean'* parameters to see how they impact the estimation (curve-fit) accuracy **"
   ]
  },
  {
   "cell_type": "code",
   "execution_count": 7,
   "metadata": {
    "scrolled": false
   },
   "outputs": [
    {
     "data": {
      "application/vnd.jupyter.widget-view+json": {
       "model_id": "af514c1800aa471fa80391032f3a6b19",
       "version_major": 2,
       "version_minor": 0
      },
      "text/html": [
       "<p>Failed to display Jupyter Widget of type <code>interactive</code>.</p>\n",
       "<p>\n",
       "  If you're reading this message in the Jupyter Notebook or JupyterLab Notebook, it may mean\n",
       "  that the widgets JavaScript is still loading. If this message persists, it\n",
       "  likely means that the widgets JavaScript library is either not installed or\n",
       "  not enabled. See the <a href=\"https://ipywidgets.readthedocs.io/en/stable/user_install.html\">Jupyter\n",
       "  Widgets Documentation</a> for setup instructions.\n",
       "</p>\n",
       "<p>\n",
       "  If you're reading this message in another frontend (for example, a static\n",
       "  rendering on GitHub or <a href=\"https://nbviewer.jupyter.org/\">NBViewer</a>),\n",
       "  it may mean that your frontend doesn't currently support widgets.\n",
       "</p>\n"
      ],
      "text/plain": [
       "interactive(children=(Dropdown(description='amplitude', options=(1, 2, 3, 4, 5), value=1), FloatSlider(value=0.0, description='ideal_mu', max=5.0, min=-5.0, step=0.5), FloatSlider(value=1.0, description='ideal_sigma', max=2.0, step=0.2), FloatSlider(value=0.0, description='noise_sd', max=1.0), FloatSlider(value=0.0, description='noise_mean', max=1.0, min=-1.0, step=0.2), Output()), _dom_classes=('widget-interact',))"
      ]
     },
     "metadata": {},
     "output_type": "display_data"
    }
   ],
   "source": [
    "y=interactive(func,amplitude=[1,2,3,4,5],ideal_mu=(-5,5,0.5),\n",
    "              ideal_sigma=(0,2,0.2),\n",
    "              noise_sd=(0,1,0.1),noise_mean=(-1,1,0.2))\n",
    "display(y)"
   ]
  },
  {
   "cell_type": "markdown",
   "metadata": {},
   "source": [
    "### Run curve-fitting optimizer to estimate parameters, store, and plot"
   ]
  },
  {
   "cell_type": "code",
   "execution_count": 6,
   "metadata": {},
   "outputs": [
    {
     "name": "stderr",
     "output_type": "stream",
     "text": [
      "/home/ivan/pybr/AJNA_MOD/venv/lib/python3.5/site-packages/scipy/optimize/minpack.py:785: OptimizeWarning: Covariance of the parameters could not be estimated\n",
      "  category=OptimizeWarning)\n"
     ]
    },
    {
     "name": "stdout",
     "output_type": "stream",
     "text": [
      "           Original Params  Estimated Params\n",
      "Amplitude              1.0      1.000000e+00\n",
      "Mean                   0.0      2.295673e-09\n",
      "Std.Dev                0.0      1.000000e+00\n"
     ]
    },
    {
     "name": "stderr",
     "output_type": "stream",
     "text": [
      "/home/ivan/pybr/AJNA_MOD/venv/lib/python3.5/site-packages/ipykernel_launcher.py:2: RuntimeWarning: divide by zero encountered in true_divide\n",
      "  \n",
      "/home/ivan/pybr/AJNA_MOD/venv/lib/python3.5/site-packages/ipykernel_launcher.py:2: RuntimeWarning: invalid value encountered in true_divide\n",
      "  \n"
     ]
    },
    {
     "data": {
      "image/png": "[encoded data removed]",
      "text/plain": [
       "<matplotlib.figure.Figure at 0x7f571a4afc88>"
      ]
     },
     "metadata": {},
     "output_type": "display_data"
    }
   ],
   "source": [
    "# Curve-fit optimizer\n",
    "p = y.result\n",
    "p1,_=cf(f,xdata=x,ydata=p)\n",
    "par_lst=list(p1)\n",
    "\n",
    "# Gather ideal parameters from the interactive widget object\n",
    "p2=list(y.kwargs.values())\n",
    "p3=p2[0:3]\n",
    "\n",
    "# Make the data matrix\n",
    "data = np.array([p3,par_lst])\n",
    "\n",
    "# Put it in a Data Frame\n",
    "df=pd.DataFrame(data=data.T,index=['Amplitude','Mean','Std.Dev'],columns=['Original Params','Estimated Params'])\n",
    "print(df)\n",
    "\n",
    "# Plot the ideal and estimated curves\n",
    "plt.figure(figsize=(10,6))\n",
    "plt.plot(x,f(x,par_lst[0],par_lst[1],par_lst[2]),'k--',lw=2)\n",
    "plt.plot(x,f(x,p3[0],p3[1],p3[2]),c='green',lw=2)\n",
    "plt.legend(['Fitted curve with noise','Ideal curve w/o noise'],fontsize=12)\n",
    "plt.grid(True)\n",
    "plt.show()"
   ]
  },
  {
   "cell_type": "code",
   "execution_count": null,
   "metadata": {},
   "outputs": [],
   "source": []
  }
 ],
 "metadata": {
  "kernelspec": {
   "display_name": "Python 3",
   "language": "python",
   "name": "python3"
  },
  "language_info": {
   "codemirror_mode": {
    "name": "ipython",
    "version": 3
   },
   "file_extension": ".py",
   "mimetype": "text/x-python",
   "name": "python",
   "nbconvert_exporter": "python",
   "pygments_lexer": "ipython3",
   "version": "3.5.2"
  }
 },
 "nbformat": 4,
 "nbformat_minor": 2
}
