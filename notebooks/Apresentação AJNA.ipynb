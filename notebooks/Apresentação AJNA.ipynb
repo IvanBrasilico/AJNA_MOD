{
 "cells": [
  {
   "cell_type": "markdown",
   "metadata": {
    "slideshow": {
     "slide_type": "slide"
    }
   },
   "source": [
    "## <center>Sistema AJNA</center>\n",
    "### Mineração de Dados, Visão Computacional e Aprendizagem de Máquina <br>aplicados  à Vigilância e Repressão Aduaneiras\n"
   ]
  },
  {
   "cell_type": "markdown",
   "metadata": {
    "slideshow": {
     "slide_type": "fragment"
    }
   },
   "source": [
    "* Histórico\n",
    "* Panorama\n",
    "* Arquitetura\n",
    " * Interfaces de Usuário\n",
    " * Serviços de integração\n",
    " * \"Inteligência\"\n",
    "* Colaborando\n",
    "* Para saber mais/referências"
   ]
  },
  {
   "cell_type": "markdown",
   "metadata": {
    "slideshow": {
     "slide_type": "slide"
    }
   },
   "source": [
    "# Histórico AJNA"
   ]
  },
  {
   "cell_type": "markdown",
   "metadata": {
    "slideshow": {
     "slide_type": "fragment"
    }
   },
   "source": [
    "* Porto de Santos: maior porto da América Latina e um dos mais movimentados do hemisfério sul.\n",
    "* Em torno de 25% de todas as cargas importadas e exportados no Brasil.\n",
    "* Em torno de 5.000 contêineres movimentados por dia\n",
    " * Mais de 15 pátios de contêineres\n",
    " * Dezenas de terminais privativos especializados\n",
    " * Várias dezenas de Redex\n",
    " * 14 km de pier\n",
    " * 4 cidades, 60 km de rotas"
   ]
  },
  {
   "cell_type": "markdown",
   "metadata": {
    "slideshow": {
     "slide_type": "fragment"
    }
   },
   "source": [
    "* Uma dezena de Servidores da Alfândega de Santos"
   ]
  },
  {
   "cell_type": "markdown",
   "metadata": {
    "slideshow": {
     "slide_type": "slide"
    }
   },
   "source": [
    "## Tecnologia ao resgate - Fase 1"
   ]
  },
  {
   "cell_type": "markdown",
   "metadata": {
    "slideshow": {
     "slide_type": "subslide"
    }
   },
   "source": [
    "* COV - Central de Operações e Vigilância\n",
    " * 1 estação de acesso por terminal\n",
    " * Dificuldades de integração e comunicação\n",
    "* COV - melhorias\n",
    " * Regulamentação ALFSTS\n",
    " * Sistema integrado ABTRA\n",
    " * 15 pátios diferentes\n",
    " * 3.000 câmeras\n",
    " * Área pública\n",
    " * Pontos de OCR\n",
    " * 15 escâneres de contêiner\n",
    " * escâneres de volume\n",
    " * gestão de posicionamento de câmeras(funções especializadas)"
   ]
  },
  {
   "cell_type": "markdown",
   "metadata": {
    "slideshow": {
     "slide_type": "slide"
    }
   },
   "source": [
    "# Tecnologia ao resgate - Fase 1\n",
    "## Problemas"
   ]
  },
  {
   "cell_type": "markdown",
   "metadata": {
    "slideshow": {
     "slide_type": "subslide"
    }
   },
   "source": [
    "* 3.000 imagens/dia para analisar\n",
    "* Dificuldade de encontrar imagens\n",
    "* Vários sistemas para completar análise\n",
    "* necessidade de reter conhecimento\n",
    "* necessidade de padronizar métodos"
   ]
  },
  {
   "cell_type": "markdown",
   "metadata": {
    "slideshow": {
     "slide_type": "slide"
    }
   },
   "source": [
    "# Solução: Sistema AJNA -> COV 2.0\n",
    "## Premissas"
   ]
  },
  {
   "cell_type": "markdown",
   "metadata": {
    "slideshow": {
     "slide_type": "subslide"
    }
   },
   "source": [
    "* Análise por algoritmos de 100% das imagens\n",
    "* Algoritmos \"plugáveis\"\n",
    "* Reunir dados e imagens em um único BD\n",
    "* Acesso web único nacional via pesquisa\n",
    "* Integrações e auditorias em background\n",
    "\n",
    "Obs: foco inicial escaneamento, mas possibilidade de uso em vídeo\n",
    "\n",
    "Projeto formalizado e apresentado no 16º Premio de Criatividade e Inovação da RFB - 2017\n",
    "\n",
    "http://esaf.fazenda.gov.br/assuntos/pesquisas-e-premios/premio-rfb/16o-premio-de-criatividade-e-inovacao-da-rfb-2017/resultado-do-16o-premio-de-criatividade-e-inovacao-da-rfb"
   ]
  },
  {
   "cell_type": "markdown",
   "metadata": {
    "slideshow": {
     "slide_type": "slide"
    }
   },
   "source": [
    "<img src=\"armas.png\" width=\"1200\" align=\"center\" />"
   ]
  },
  {
   "cell_type": "markdown",
   "metadata": {
    "slideshow": {
     "slide_type": "slide"
    }
   },
   "source": [
    "## Ferramentas utilizadas"
   ]
  },
  {
   "cell_type": "markdown",
   "metadata": {
    "slideshow": {
     "slide_type": "fragment"
    }
   },
   "source": [
    "![python_stack](python_stack.jpg)"
   ]
  },
  {
   "cell_type": "markdown",
   "metadata": {
    "slideshow": {
     "slide_type": "slide"
    }
   },
   "source": [
    "# AJNA - contexto"
   ]
  },
  {
   "cell_type": "markdown",
   "metadata": {
    "slideshow": {
     "slide_type": "subslide"
    }
   },
   "source": [
    "O AJNA é, antes de tudo, um projeto de Data Science/Machine Learning. Mas ao invés de entregar um resultado \"único\", entrega um sistema que fará sistematicamente e de forma cíclica o ciclo de DS.\n",
    "\n",
    "1. Entender o negócio\n",
    "* Adquirir Dados (ETL)\n",
    "* Limpar/Analisar/Integrar Dados (ETL)\n",
    "* Modelar algoritmos (ML/DS)\n",
    "* Implantar algoritmos\n",
    "* Apresentar resultados\n",
    "\n"
   ]
  },
  {
   "cell_type": "markdown",
   "metadata": {
    "slideshow": {
     "slide_type": "slide"
    }
   },
   "source": [
    "# AJNA - contexto"
   ]
  },
  {
   "cell_type": "markdown",
   "metadata": {
    "slideshow": {
     "slide_type": "subslide"
    }
   },
   "source": [
    "In many ways, machine learning is the primary means by which data science manifests itself to the broader world. Machine learning is where these computational and algorithmic skills of data science meet the statistical thinking of data science, and the result is a collection of approaches to inference and data exploration that are not about effective theory so much as effective computation.\n",
    "\n",
    "Jake Vanderplas - coredev sklearn e scipy\n",
    "\n",
    "![datascience](datascience.jpg)"
   ]
  },
  {
   "cell_type": "markdown",
   "metadata": {
    "slideshow": {
     "slide_type": "subslide"
    }
   },
   "source": [
    "<img src=\"ciclodevida.png\" alt=\"ciclodevida\" width=\"1000px\" height=\"700px\"/>"
   ]
  },
  {
   "cell_type": "markdown",
   "metadata": {
    "slideshow": {
     "slide_type": "slide"
    }
   },
   "source": [
    "# AJNA - que algoritmos?\n",
    "\n",
    "![pulpfiction](travolta-meme.gif)"
   ]
  },
  {
   "cell_type": "markdown",
   "metadata": {
    "slideshow": {
     "slide_type": "slide"
    }
   },
   "source": [
    "## Algoritmos E Dados *devem* responder às perguntas da fase 1 - *negócio*\n",
    "\n",
    "## Do projeto original:\n",
    "\n",
    "* São objetivos específicos do sistema:\n",
    " * Classificação, predição e varredura de padrões para alerta de anomalias ou possíveis ameaças\n",
    " * Controle automático por IA de imagens de vigilância e escaneamento \n",
    " * Utilizar tecnologia e métodos para exercer a vigilância aduaneira, otimizando resultados\n",
    " * Aumentar percepção de risco na fraude"
   ]
  },
  {
   "cell_type": "markdown",
   "metadata": {
    "slideshow": {
     "slide_type": "subslide"
    }
   },
   "source": [
    " * Atuar de modo transversal e diversificado na investigação e descoberta de fraudes\n",
    " * Atuar de forma ágil e diversificada, desde antes da descarga até a entrega, mapeando tentativas de enganar os demais controles da Aduana\n",
    " * Permitir “fiscalização 100%”, através de agentes inteligentes automáticos, de diversos processos aduaneiros  \n",
    " * Subsidiar e complementar o processo de análise de risco, diminuindo a necessidade de intervenção e parada do fluxo normal da carga (diminuição das aberturas e verificações físicas SEM resultado)\n",
    " * DIMINUIÇÃO do total de verificações físicas, e ao mesmo tempo INCREMENTO percentual das verificações físicas com resultado.\n",
    " * Resposta às demandas da sociedade."
   ]
  },
  {
   "cell_type": "markdown",
   "metadata": {
    "slideshow": {
     "slide_type": "subslide"
    }
   },
   "source": [
    "O Sistema deve cumprir objetivos cumulativos e incrementais(...) depois começa a “responder perguntas” (...) cada vez mais complicadas\n",
    "\n",
    "- Construir um Banco de Dados de imagens\n",
    "- Importar automaticamente e de forma periódico imagens e informações\n",
    "- Aplicar algoritmos e comparação entre fontes"
   ]
  },
  {
   "cell_type": "markdown",
   "metadata": {
    "slideshow": {
     "slide_type": "subslide"
    }
   },
   "source": [
    "Ex. Perguntas:\n",
    "\n",
    "- Todos os contêineres programados para “escaneamento” possuem imagem disponível?\n",
    "- Treinar algoritmo para detecção de tipo de contêiner\n",
    "- Treinar rede para detecção de bordas das imagens de contêiner\n",
    "- Treinar algoritmo simples para detecção de contêiner vazio ou cheio\n",
    "- Treinar algoritmo mais sofisticado para detecção de contêiner vazio com anomalia de interesse fiscal\n",
    "- Treinar algoritmo para predizer o peso do contêiner de acordo com a imagem\n",
    "- Comparar com a pesagem de balança e a declarada\n",
    "- Utilizar algoritmo para predizer a probabilidade de compatibilidade com as NCMs declaradas\n",
    "- Treinar algoritmo de indexação para procura de imagens similares\n",
    "- Produzir indexação que permita variação posicional (Semântica/baseado em contexto)"
   ]
  },
  {
   "cell_type": "markdown",
   "metadata": {
    "slideshow": {
     "slide_type": "slide"
    }
   },
   "source": [
    "# AJNA - arquitetura (microserviços)"
   ]
  },
  {
   "cell_type": "markdown",
   "metadata": {
    "slideshow": {
     "slide_type": "subslide"
    }
   },
   "source": [
    "![Arquitetura](Arquitetura.jpg)"
   ]
  },
  {
   "cell_type": "markdown",
   "metadata": {
    "slideshow": {
     "slide_type": "slide"
    }
   },
   "source": [
    "# AJNA - arquitetura na prática"
   ]
  },
  {
   "cell_type": "markdown",
   "metadata": {
    "slideshow": {
     "slide_type": "subslide"
    }
   },
   "source": [
    "## AJNA - Módulo Avatar\n",
    "\n",
    "### Fase 2 - coleta de dados\n",
    "* Possibilidade de várias versões\n",
    "* Roda no ambiente externo\n",
    "* Pode ser desenvolvido pelo forneceder de imagens\n",
    "* Possibilidade de auditorias prévias\n",
    "* Interface (Django admin)\n",
    " * Configuração de fontes de imagens\n",
    " * Monitoramento básico\n",
    "* Serviços (Thread schedule)\n",
    " * Importa imagens\n",
    " * Exporta lotes para BSON"
   ]
  },
  {
   "cell_type": "markdown",
   "metadata": {
    "slideshow": {
     "slide_type": "subslide"
    }
   },
   "source": [
    "## AJNA - módulo Virasana (Postura do Arqueiro/Herói)\n",
    "\n",
    "## Fase 2 e 3 - tratamento de dados\n",
    "\n",
    "* Servidor de imagens (Flask)\n",
    " * Interativo Usuário\n",
    " * Endpoint serializa imagem\n",
    " * REST também para metadata\n",
    "* Serviços (Celery)\n",
    " * Importa arquivos BSON e grava em GridFS (MongoDB)\n",
    " * Importa dados \"raw\" do Bhadrasana\n",
    " * Heurísticas para vincular dados a imagens\n",
    " * Importa predições PADMA\n",
    " * Celery + Redis para tarefas da interface em \"background\""
   ]
  },
  {
   "cell_type": "markdown",
   "metadata": {
    "slideshow": {
     "slide_type": "subslide"
    }
   },
   "source": [
    "## AJNA - módulo Bhadrasana (Postura do Sentinela)\n",
    "\n",
    "* Servidor (Flask)\n",
    " * Importação manual de bases de dados\n",
    " * Pré-tratamento, normalização, gerenciamento\n",
    " * Navegação, filtragem\n",
    " * Dados são mantidos \"originais\"\n",
    "* Serviços (Celery + Redis)\n",
    " * Tarefas demoradas da interface\n",
    " * Scraping e acesso a sistemas automático (planejado)"
   ]
  },
  {
   "cell_type": "markdown",
   "metadata": {
    "slideshow": {
     "slide_type": "subslide"
    }
   },
   "source": [
    "## AJNA - módulo Padma (Busca da verdade)\n",
    "\n",
    "* Servidor de modelos (Redis + Threads)\n",
    " * Carrega modelos serializados na inicialização\n",
    " * Recebe modelo e imagem, retorna predições\n",
    "* Serviços REST\n",
    " * Autentica Usuário\n",
    " * Recebe imagem e repassa para Redis\n",
    " * Aguarda até retorno ou timeout\n",
    " * Retorna JSON com resultado"
   ]
  },
  {
   "cell_type": "markdown",
   "metadata": {
    "slideshow": {
     "slide_type": "subslide"
    }
   },
   "source": [
    "* Treinamento\n",
    " * PRECISA de dados e imagens (Base Virasana)\n",
    " * À parte, interativo\n",
    " * Se modelo novo, necessita inserção classe no Servidor\n",
    " * Se apenas treinamento novo, basta gravar dados novos no diretório"
   ]
  },
  {
   "cell_type": "markdown",
   "metadata": {
    "slideshow": {
     "slide_type": "slide"
    }
   },
   "source": [
    "# AJNA - exemplo de treinamento\n",
    "\n",
    "![formiga](formiga.jpg)"
   ]
  },
  {
   "cell_type": "markdown",
   "metadata": {
    "slideshow": {
     "slide_type": "slide"
    }
   },
   "source": [
    "# AJNA - telas"
   ]
  },
  {
   "cell_type": "markdown",
   "metadata": {
    "slideshow": {
     "slide_type": "slide"
    }
   },
   "source": [
    "# AJNA - qualidade\n",
    "\n",
    "* TDD - CI - LINT\n",
    "* pytest\n",
    "* flask-testing\n",
    "* bandit\n",
    "* flake com extensões\n",
    "* codecov\n",
    "* tox\n",
    "\n",
    "![codecov](codecov.jpg)\n"
   ]
  },
  {
   "cell_type": "markdown",
   "metadata": {
    "slideshow": {
     "slide_type": "slide"
    }
   },
   "source": [
    "# AJNA - qualidade\n",
    "\n",
    "![codecov2](codecov2.jpg)\n",
    "\n",
    "\n"
   ]
  },
  {
   "cell_type": "markdown",
   "metadata": {
    "slideshow": {
     "slide_type": "slide"
    }
   },
   "source": [
    "# AJNA - qualidade\n",
    "\n",
    "![codecov3](codecov3.jpg)\n",
    "\n",
    "\n"
   ]
  },
  {
   "cell_type": "markdown",
   "metadata": {
    "slideshow": {
     "slide_type": "slide"
    }
   },
   "source": [
    "# AJNA - colaborando\n",
    "\n",
    "https://github.com/IvanBrasilico/ajna_docs\n",
    "\n",
    "https://github.com/IvanBrasilico/padma/tree/master/padma/gym\n",
    "\n",
    "\n",
    "* Utilizar extrações para diretório\n",
    " * Google Drive\n",
    " * Google Colab\n",
    " * FloydHub\n",
    " * Receita Drive\n",
    "* Acesso a banco de dados MongoDB (imagens)\n",
    " * Gerar a própria extração\n",
    " * Rodar na estação (sklearn)\n"
   ]
  },
  {
   "cell_type": "markdown",
   "metadata": {
    "slideshow": {
     "slide_type": "slide"
    }
   },
   "source": [
    "# AJNA - roadmap\n",
    "\n",
    "### Em fase de publicação/homologação aguardando Servidor Staging\n",
    "### Pronto para criação de Avatares em outras fontes de dados\n",
    "### Nos algoritmos, trabalhar com setores usuários relatórios a fornecer e algoritmos a priorizar"
   ]
  },
  {
   "cell_type": "markdown",
   "metadata": {},
   "source": [
    "## Para saber mais\n",
    "\n",
    "https://medium.com/towards-data-science/how-to-train-your-own-object-detector-with-tensorflows-object-detector-api-bec72ecfe1d9\n",
    "\n",
    "https://arxiv.org/pdf/1511.06434.pdf\n",
    "\n",
    "https://arxiv.org/pdf/1708.00838v1.pdf\n",
    "\n",
    "https://arxiv.org/abs/1004.5370 \n",
    "\n",
    "https://arxiv.org/pdf/1406.2661.pdf\n",
    "\n",
    "https://arxiv.org/pdf/1606.03498v1.pdf \n",
    "\n",
    "https://arxiv.org/pdf/1606.02228.pdf \n",
    "\n",
    "https://arxiv.org/pdf/1409.1556.pdf \n",
    "\n",
    "http://doc.openalpr.com/accuracy_improvements.html#training-ocr \n",
    "\n"
   ]
  },
  {
   "cell_type": "code",
   "execution_count": null,
   "metadata": {},
   "outputs": [],
   "source": []
  }
 ],
 "metadata": {
  "celltoolbar": "Slideshow",
  "kernelspec": {
   "display_name": "Python3.5 TF1.4",
   "language": "python",
   "name": "venv"
  },
  "language_info": {
   "codemirror_mode": {
    "name": "ipython",
    "version": 3
   },
   "file_extension": ".py",
   "mimetype": "text/x-python",
   "name": "python",
   "nbconvert_exporter": "python",
   "pygments_lexer": "ipython3",
   "version": "3.5.2"
  }
 },
 "nbformat": 4,
 "nbformat_minor": 2
}
