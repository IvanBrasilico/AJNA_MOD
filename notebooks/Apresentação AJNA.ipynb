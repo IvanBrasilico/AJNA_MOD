{
 "cells": [
  {
   "cell_type": "markdown",
   "metadata": {
    "slideshow": {
     "slide_type": "slide"
    }
   },
   "source": [
    "## <center>Sistema AJNA</center>\n",
    "### Mineração de Dados, Visão Computacional e Aprendizagem de Máquina <br>aplicados  à Vigilância e Repressão Aduaneiras\n"
   ]
  },
  {
   "cell_type": "markdown",
   "metadata": {
    "slideshow": {
     "slide_type": "fragment"
    }
   },
   "source": [
    "* Histórico\n",
    "* Panorama\n",
    "* Arquitetura Geral\n",
    "* Interfaces de Usuário\n",
    "* Serviços de integração\n",
    "* \"Inteligência\"\n",
    "* Para saber mais/referências"
   ]
  },
  {
   "cell_type": "markdown",
   "metadata": {
    "slideshow": {
     "slide_type": "slide"
    }
   },
   "source": [
    "# Histórico AJNA"
   ]
  },
  {
   "cell_type": "markdown",
   "metadata": {
    "slideshow": {
     "slide_type": "fragment"
    }
   },
   "source": [
    "* Porto de Santos: maior porto da América Latina e um dos mais movimentados do hemisfério sul.\n",
    "* Em torno de 25% de todas as cargas importadas e exportados no Brasil.\n",
    "* Em torno de 5.000 contêineres movimentados por dia\n",
    " * Mais de 15 pátios de contêineres\n",
    " * Dezenas de terminais privativos especializados\n",
    " * Várias dezenas de Redex\n",
    " * 14 km de pier\n",
    " * 4 cidades, 60 km de rotas"
   ]
  },
  {
   "cell_type": "markdown",
   "metadata": {
    "slideshow": {
     "slide_type": "fragment"
    }
   },
   "source": [
    "* Uma dezena de Servidores da Alfândega de Santos"
   ]
  },
  {
   "cell_type": "markdown",
   "metadata": {
    "slideshow": {
     "slide_type": "slide"
    }
   },
   "source": [
    "## Tecnologia ao resgate - Fase 1"
   ]
  },
  {
   "cell_type": "markdown",
   "metadata": {
    "slideshow": {
     "slide_type": "subslide"
    }
   },
   "source": [
    "* COV - Central de Operações e Vigilância\n",
    " * 1 estação de acesso por terminal\n",
    " * Dificuldades de integração e comunicação\n",
    "* COV - melhorias\n",
    " * Regulamentação ALFSTS\n",
    " * Sistema integrado ABTRA\n",
    " * 15 pátios diferentes\n",
    " * 3.000 câmeras\n",
    " * Área pública\n",
    " * Pontos de OCR\n",
    " * 15 escâneres de contêiner\n",
    " * escâneres de volume\n",
    " * gestão de posicionamento de câmeras(funções especializadas)"
   ]
  },
  {
   "cell_type": "markdown",
   "metadata": {
    "slideshow": {
     "slide_type": "slide"
    }
   },
   "source": [
    "# Tecnologia ao resgate - Fase 1\n",
    "## Problemas"
   ]
  },
  {
   "cell_type": "markdown",
   "metadata": {
    "slideshow": {
     "slide_type": "subslide"
    }
   },
   "source": [
    "* 3.000 imagens/dia para analisar\n",
    "* Dificuldade de encontrar imagens\n",
    "* Vários sistemas para completar análise\n",
    "* necessidade de reter conhecimento\n",
    "* necessidade de padronizar métodos"
   ]
  },
  {
   "cell_type": "markdown",
   "metadata": {
    "slideshow": {
     "slide_type": "slide"
    }
   },
   "source": [
    "# Solução: Sistema AJNA -> COV 2.0\n",
    "## Premissas"
   ]
  },
  {
   "cell_type": "markdown",
   "metadata": {
    "slideshow": {
     "slide_type": "subslide"
    }
   },
   "source": [
    "* Análise por algoritmos de 100% das imagens\n",
    "* Algoritmos \"plugáveis\"\n",
    "* Reunir dados e imagens em um único BD\n",
    "* Acesso web único via pesquisa\n",
    "* Integrações e auditorias em background\n",
    "\n",
    "Obs: foco inicial escaneamento, mas possibilidade de uso em vídeo"
   ]
  },
  {
   "cell_type": "markdown",
   "metadata": {
    "slideshow": {
     "slide_type": "slide"
    }
   },
   "source": [
    "# AJNA - o que são os tais algoritmos"
   ]
  },
  {
   "cell_type": "markdown",
   "metadata": {
    "slideshow": {
     "slide_type": "slide"
    }
   },
   "source": [
    "# AJNA - arquitetura conceitual\n",
    "![Arquitetura](Arquitetura.png)"
   ]
  },
  {
   "cell_type": "markdown",
   "metadata": {
    "slideshow": {
     "slide_type": "slide"
    }
   },
   "source": [
    "# AJNA - arquitetura na prática"
   ]
  },
  {
   "cell_type": "markdown",
   "metadata": {
    "slideshow": {
     "slide_type": "slide"
    }
   },
   "source": [
    "# AJNA - módulo bhadrasana"
   ]
  },
  {
   "cell_type": "markdown",
   "metadata": {
    "slideshow": {
     "slide_type": "slide"
    }
   },
   "source": [
    "# AJNA - módulo virasana"
   ]
  },
  {
   "cell_type": "markdown",
   "metadata": {
    "slideshow": {
     "slide_type": "slide"
    }
   },
   "source": [
    "# AJNA - módulo bhadrasana"
   ]
  },
  {
   "cell_type": "markdown",
   "metadata": {
    "slideshow": {
     "slide_type": "slide"
    }
   },
   "source": [
    "# AJNA - exemplo de treinamento"
   ]
  },
  {
   "cell_type": "markdown",
   "metadata": {
    "slideshow": {
     "slide_type": "slide"
    }
   },
   "source": [
    "# AJNA - colaborando"
   ]
  },
  {
   "cell_type": "markdown",
   "metadata": {
    "slideshow": {
     "slide_type": "slide"
    }
   },
   "source": [
    "# AJNA - roadmap"
   ]
  },
  {
   "cell_type": "code",
   "execution_count": null,
   "metadata": {},
   "outputs": [],
   "source": []
  }
 ],
 "metadata": {
  "celltoolbar": "Slideshow",
  "kernelspec": {
   "display_name": "Python3.5 TF1.4",
   "language": "python",
   "name": "venv"
  },
  "language_info": {
   "codemirror_mode": {
    "name": "ipython",
    "version": 3
   },
   "file_extension": ".py",
   "mimetype": "text/x-python",
   "name": "python",
   "nbconvert_exporter": "python",
   "pygments_lexer": "ipython3",
   "version": "3.5.2"
  }
 },
 "nbformat": 4,
 "nbformat_minor": 2
}
